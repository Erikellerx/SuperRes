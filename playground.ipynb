{
 "cells": [
  {
   "cell_type": "code",
   "execution_count": null,
   "metadata": {},
   "outputs": [],
   "source": [
    "from baseline import SRCNN\n",
    "from baseline import FSRCNN\n",
    "from train_utils import validation\n",
    "from datasets.data import DIV2K\n",
    "\n",
    "from argparse import Namespace\n",
    "import torch.optim as optim\n",
    "import torch.nn as nn\n",
    "import torch\n",
    "\n",
    "import warnings\n",
    "warnings.filterwarnings(\"ignore\")\n",
    "\n",
    "model = SRCNN(True)\n",
    "\n",
    "state_dict = torch.load(\"D:\\\\Models\\SuperRes\\\\srcnn_x4.pth\")\n",
    "adapted_state_dict = {}\n",
    "for k, v in state_dict.items():\n",
    "    if k.startswith('conv1.'):\n",
    "        adapted_k = k.replace('conv1.', 'features.0.')\n",
    "    elif k.startswith('conv2.'):\n",
    "        adapted_k = k.replace('conv2.', 'map.0.')\n",
    "    elif k.startswith('conv3.'):\n",
    "        adapted_k = k.replace('conv3.', 'reconstruction.')\n",
    "    else:\n",
    "        adapted_k = k\n",
    "        \n",
    "    adapted_state_dict[adapted_k] = v\n",
    "\n",
    "model.load_state_dict(adapted_state_dict)\n",
    "\n",
    "model.to('cuda')\n",
    "\n",
    "valid_dataset = DIV2K('D:\\\\DATA\\\\DIV2K', train=False, gray_scale=True)\n",
    "\n",
    "valid_loader = torch.utils.data.DataLoader(valid_dataset, batch_size=32)\n",
    "\n",
    "loss, psnr, ssim = validation(model, valid_loader, nn.MSELoss(), 'cuda', 0)\n",
    "\n",
    "print(loss, psnr.item() / len(valid_loader), ssim.item() / len(valid_loader))"
   ]
  }
 ],
 "metadata": {
  "kernelspec": {
   "display_name": "base",
   "language": "python",
   "name": "python3"
  },
  "language_info": {
   "name": "python",
   "version": "3.11.7"
  }
 },
 "nbformat": 4,
 "nbformat_minor": 2
}
